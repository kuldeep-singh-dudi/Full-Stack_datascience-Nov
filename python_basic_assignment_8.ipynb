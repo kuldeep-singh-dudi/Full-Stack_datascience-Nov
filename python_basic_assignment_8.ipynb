{
 "cells": [
  {
   "cell_type": "raw",
   "id": "fc9e5879",
   "metadata": {},
   "source": [
    "1. Is the Python Standard Library included with PyInputPlus?"
   ]
  },
  {
   "cell_type": "raw",
   "id": "c97c2885",
   "metadata": {},
   "source": [
    "Yes it is included"
   ]
  },
  {
   "cell_type": "raw",
   "id": "6d6d1d8f",
   "metadata": {},
   "source": [
    "2. Why is PyInputPlus commonly imported with import pyinputplus as pypi?"
   ]
  },
  {
   "cell_type": "raw",
   "id": "7fc51ca5",
   "metadata": {},
   "source": [
    "pypi is used as aliases so every time you don't need to write the full name"
   ]
  },
  {
   "cell_type": "raw",
   "id": "429089f0",
   "metadata": {},
   "source": [
    "3. How do you distinguish between inputInt() and inputFloat()?"
   ]
  },
  {
   "cell_type": "raw",
   "id": "d925961d",
   "metadata": {},
   "source": [
    "inputInt take integer value as input whereas inputFloat take floating point numbers as input"
   ]
  },
  {
   "cell_type": "raw",
   "id": "4dbb73e0",
   "metadata": {},
   "source": [
    "4. Using PyInputPlus, how do you ensure that the user enters a whole number between 0 and 99?"
   ]
  },
  {
   "cell_type": "raw",
   "id": "98b9f838",
   "metadata": {},
   "source": [
    "we need to specify it as enter number between 0 to 99 and set min =0 and max = 99"
   ]
  },
  {
   "cell_type": "raw",
   "id": "5598bda1",
   "metadata": {},
   "source": [
    "5. What is transferred to the keyword arguments allowRegexes and blockRegexes?"
   ]
  },
  {
   "cell_type": "raw",
   "id": "680c2bc8",
   "metadata": {},
   "source": [
    "it will take input of regular expressions string to know which thing to allow and which to block"
   ]
  },
  {
   "cell_type": "raw",
   "id": "3239e37a",
   "metadata": {},
   "source": [
    "6. If a blank input is entered three times, what does inputStr(limit=3) do?"
   ]
  },
  {
   "cell_type": "raw",
   "id": "4fcbcf73",
   "metadata": {},
   "source": [
    "it will throw an timeoutexception"
   ]
  },
  {
   "cell_type": "raw",
   "id": "284b83db",
   "metadata": {},
   "source": [
    "7. If blank input is entered three times, what does inputStr(limit=3, default='hello') do?"
   ]
  },
  {
   "cell_type": "raw",
   "id": "5a6993c6",
   "metadata": {},
   "source": [
    "if you are providing a default value then instead of throwing error it will return the default value"
   ]
  }
 ],
 "metadata": {
  "kernelspec": {
   "display_name": "Python 3",
   "language": "python",
   "name": "python3"
  },
  "language_info": {
   "codemirror_mode": {
    "name": "ipython",
    "version": 3
   },
   "file_extension": ".py",
   "mimetype": "text/x-python",
   "name": "python",
   "nbconvert_exporter": "python",
   "pygments_lexer": "ipython3",
   "version": "3.8.8"
  }
 },
 "nbformat": 4,
 "nbformat_minor": 5
}
