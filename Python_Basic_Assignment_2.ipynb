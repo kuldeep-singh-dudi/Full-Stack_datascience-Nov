{
 "cells": [
  {
   "cell_type": "raw",
   "id": "5afebc0c",
   "metadata": {},
   "source": [
    "1.What are the two values of the Boolean data type? How do you write them?"
   ]
  },
  {
   "cell_type": "raw",
   "id": "e409de5b",
   "metadata": {},
   "source": [
    "The two values of boolean data types are true and false. The way they are written is True, False"
   ]
  },
  {
   "cell_type": "raw",
   "id": "7843f8a4",
   "metadata": {},
   "source": [
    "2. What are the three different types of Boolean operators?"
   ]
  },
  {
   "cell_type": "raw",
   "id": "2d1bcac8",
   "metadata": {},
   "source": [
    "Three different types of boolean operators are and,or,not."
   ]
  },
  {
   "cell_type": "raw",
   "id": "e56e22ef",
   "metadata": {},
   "source": [
    "3. Make a list of each Boolean operator's truth tables (i.e. every possible combination of Boolean values for the operator and what it evaluate )."
   ]
  },
  {
   "cell_type": "raw",
   "id": "a8fc17df",
   "metadata": {},
   "source": [
    "True and True is True\n",
    "True and False is False\n",
    "False and True is False \n",
    "False and False is False\n",
    "True or True is True\n",
    "True or False is True \n",
    "False or True is True\n",
    "False or False is False\n",
    "not True is False\n",
    "not False is True"
   ]
  },
  {
   "cell_type": "raw",
   "id": "8400e5a7",
   "metadata": {},
   "source": [
    "4. What are the values of the following expressions?\n",
    "(5 > 4) and (3 == 5)\n",
    "not (5 > 4)\n",
    "(5 > 4) or (3 == 5)\n",
    "not ((5 > 4) or (3 == 5))\n",
    "(True and True) and (True == False)\n",
    "(not False) or (not True)"
   ]
  },
  {
   "cell_type": "raw",
   "id": "8e0075d8",
   "metadata": {},
   "source": [
    "False \n",
    "False \n",
    "True\n",
    "False\n",
    "False\n",
    "True"
   ]
  },
  {
   "cell_type": "raw",
   "id": "57a77c10",
   "metadata": {},
   "source": [
    "5. What are the six comparison operators?"
   ]
  },
  {
   "cell_type": "raw",
   "id": "1191c280",
   "metadata": {},
   "source": [
    "==, !=, >, <, >=, <="
   ]
  },
  {
   "cell_type": "raw",
   "id": "ef1abd84",
   "metadata": {},
   "source": [
    "6. How do you tell the difference between the equal to and assignment operators?Describe a condition and when you would use one."
   ]
  },
  {
   "cell_type": "raw",
   "id": "167e67c8",
   "metadata": {},
   "source": [
    "== is equal to operator which is used to compare the values.\n",
    "= is assignment operator which is used to assign the values to variable."
   ]
  },
  {
   "cell_type": "raw",
   "id": "1fc9f68f",
   "metadata": {},
   "source": [
    "7. Identify the three blocks in this code:\n",
    "spam = 0\n",
    "if spam == 10:\n",
    "print('eggs')\n",
    "if spam > 5:\n",
    "print('bacon')\n",
    "else:\n",
    "print('ham')\n",
    "print('spam')\n",
    "print('spam')\n"
   ]
  },
  {
   "cell_type": "raw",
   "id": "4f7ef406",
   "metadata": {},
   "source": [
    "The three blocks in this code are if,if and else "
   ]
  },
  {
   "cell_type": "raw",
   "id": "d55f1773",
   "metadata": {},
   "source": [
    "8. Write code that prints Hello if 1 is stored in spam, prints Howdy if 2 is stored in spam, and prints Greetings! if anything else is stored in spam."
   ]
  },
  {
   "cell_type": "code",
   "execution_count": 3,
   "id": "5d1717de",
   "metadata": {},
   "outputs": [
    {
     "name": "stdout",
     "output_type": "stream",
     "text": [
      "enter the value: 1\n",
      "Hello\n"
     ]
    }
   ],
   "source": [
    "spam = int(input(\"enter the value: \"))\n",
    "if spam ==1:\n",
    "    print('Hello')\n",
    "elif spam==2:\n",
    "    print('Howdy')\n",
    "else :\n",
    "    print('Greetings!')"
   ]
  },
  {
   "cell_type": "raw",
   "id": "6f1df48e",
   "metadata": {},
   "source": [
    "9.If your programme is stuck in an endless loop, what keys you’ll press?"
   ]
  },
  {
   "cell_type": "raw",
   "id": "7eaf15db",
   "metadata": {},
   "source": [
    "ctrl+c to exit endless loop"
   ]
  },
  {
   "cell_type": "raw",
   "id": "7b51a57d",
   "metadata": {},
   "source": [
    "10. How can you tell the difference between break and continue?"
   ]
  },
  {
   "cell_type": "raw",
   "id": "63d83614",
   "metadata": {},
   "source": [
    "break will break the loop and take you out of the loop whereas continue will continuosly running till all the conditions are true."
   ]
  },
  {
   "cell_type": "raw",
   "id": "51a86798",
   "metadata": {},
   "source": [
    "11. In a for loop, what is the difference between range(10), range(0, 10), and range(0, 10, 1)?"
   ]
  },
  {
   "cell_type": "raw",
   "id": "52a6ee43",
   "metadata": {},
   "source": [
    "range(10) will call the range(0,10).\n",
    "range(0,10) it states that it will start from 0 and go upto 10-1.\n",
    "range(0,10,1) it states that it wil start from 0 and increase value by 1 in each iteration"
   ]
  },
  {
   "cell_type": "raw",
   "id": "50114036",
   "metadata": {},
   "source": [
    "12. Write a short program that prints the numbers 1 to 10 using a for loop. Then write an equivalent program that prints the numbers 1 to 10 using a while loop."
   ]
  },
  {
   "cell_type": "code",
   "execution_count": 6,
   "id": "d338f2d5",
   "metadata": {},
   "outputs": [
    {
     "name": "stdout",
     "output_type": "stream",
     "text": [
      "0\n",
      "1\n",
      "2\n",
      "3\n",
      "4\n",
      "5\n",
      "6\n",
      "7\n",
      "8\n",
      "9\n"
     ]
    }
   ],
   "source": [
    "for i in range(0,10):\n",
    "    print(i)"
   ]
  },
  {
   "cell_type": "code",
   "execution_count": 11,
   "id": "681177ea",
   "metadata": {},
   "outputs": [
    {
     "name": "stdout",
     "output_type": "stream",
     "text": [
      "0\n",
      "1\n",
      "2\n",
      "3\n",
      "4\n",
      "5\n",
      "6\n",
      "7\n",
      "8\n",
      "9\n",
      "10\n"
     ]
    }
   ],
   "source": [
    "i=i+1\n",
    "i=0\n",
    "while i<11:\n",
    "    print(i)\n",
    "    i=i+1\n"
   ]
  },
  {
   "cell_type": "raw",
   "id": "e4677d28",
   "metadata": {},
   "source": [
    "13. If you had a function named bacon() inside a module named spam, how would you call it after importing spam?"
   ]
  },
  {
   "cell_type": "raw",
   "id": "3de2d9c4",
   "metadata": {},
   "source": [
    "spam.bacon()"
   ]
  },
  {
   "cell_type": "code",
   "execution_count": null,
   "id": "dcaa3256",
   "metadata": {},
   "outputs": [],
   "source": []
  }
 ],
 "metadata": {
  "kernelspec": {
   "display_name": "Python 3",
   "language": "python",
   "name": "python3"
  },
  "language_info": {
   "codemirror_mode": {
    "name": "ipython",
    "version": 3
   },
   "file_extension": ".py",
   "mimetype": "text/x-python",
   "name": "python",
   "nbconvert_exporter": "python",
   "pygments_lexer": "ipython3",
   "version": "3.8.8"
  }
 },
 "nbformat": 4,
 "nbformat_minor": 5
}
