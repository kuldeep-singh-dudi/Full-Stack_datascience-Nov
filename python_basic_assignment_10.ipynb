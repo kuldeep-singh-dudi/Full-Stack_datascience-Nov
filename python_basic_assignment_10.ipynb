{
 "cells": [
  {
   "cell_type": "raw",
   "id": "e8d3a267",
   "metadata": {},
   "source": [
    "1. How do you distinguish between shutil.copy() and shutil.copytree()?"
   ]
  },
  {
   "cell_type": "raw",
   "id": "a130e4df",
   "metadata": {},
   "source": [
    "shutil.copy() will copy the single file whereas shutil.copytree() will copy the entire folder"
   ]
  },
  {
   "cell_type": "raw",
   "id": "2b491511",
   "metadata": {},
   "source": [
    "2. What function is used to rename files?"
   ]
  },
  {
   "cell_type": "raw",
   "id": "7c6f9219",
   "metadata": {},
   "source": [
    "rename() function is used to rename the file or folder"
   ]
  },
  {
   "cell_type": "raw",
   "id": "7fce8583",
   "metadata": {},
   "source": [
    "3. What is the difference between the delete functions in the send2trash and shutil modules?"
   ]
  },
  {
   "cell_type": "raw",
   "id": "59773a63",
   "metadata": {},
   "source": [
    "The send2trash functions will move a file or folder to the recycle bin, while shutil functions will permanently delete files and folders."
   ]
  },
  {
   "cell_type": "raw",
   "id": "1ed79270",
   "metadata": {},
   "source": [
    "4.ZipFile objects have a close() method just like File objects’ close() method. What ZipFile method is equivalent to File objects’ open() method?"
   ]
  },
  {
   "cell_type": "raw",
   "id": "48ee90f9",
   "metadata": {},
   "source": [
    "zipfile.zipfile()"
   ]
  },
  {
   "cell_type": "raw",
   "id": "9ee1b42e",
   "metadata": {},
   "source": [
    "5. Create a programme that searches a folder tree for files with a certain file extension (such as .pdf or .jpg). Copy these files from whatever location they are in to a new folder."
   ]
  },
  {
   "cell_type": "code",
   "execution_count": 1,
   "id": "08d5a076",
   "metadata": {},
   "outputs": [],
   "source": [
    "import os, shutil\n",
    "def filecopy(foldername,extension,destfolder):\n",
    "    foldername=os.path.abspath(foldername)\n",
    "    destfolder=os.apth.abspath(destfolder)\n",
    "    for folder,subfolder,filename in os.walk(foldername):\n",
    "        for file in filename:\n",
    "            name,extension=os.path.splittext(filename)\n",
    "            if extensions in extension:\n",
    "                fileAbsPath = folder + os.path.sep + filename\n",
    "                print('Coping', fileAbsPath, 'to', destfolder)\n",
    "                shutil.copy(fileAbsPath, destfolder)\n",
    "\n",
    "extensions = ['.pdf', '.jpg']\n",
    "foldername = 'randomFolder'\n",
    "destFolder = 'selectiveFolder'\n",
    "selectiveCopy(foldername, extension, destFolder)"
   ]
  },
  {
   "cell_type": "code",
   "execution_count": null,
   "id": "0cf9c406",
   "metadata": {},
   "outputs": [],
   "source": []
  }
 ],
 "metadata": {
  "kernelspec": {
   "display_name": "Python 3",
   "language": "python",
   "name": "python3"
  },
  "language_info": {
   "codemirror_mode": {
    "name": "ipython",
    "version": 3
   },
   "file_extension": ".py",
   "mimetype": "text/x-python",
   "name": "python",
   "nbconvert_exporter": "python",
   "pygments_lexer": "ipython3",
   "version": "3.8.8"
  }
 },
 "nbformat": 4,
 "nbformat_minor": 5
}
