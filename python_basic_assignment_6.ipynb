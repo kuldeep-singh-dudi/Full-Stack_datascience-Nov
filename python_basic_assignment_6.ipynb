{
 "cells": [
  {
   "cell_type": "raw",
   "id": "e4468a57",
   "metadata": {},
   "source": [
    "1. What are escape characters, and how do you use them?"
   ]
  },
  {
   "cell_type": "raw",
   "id": "db7add45",
   "metadata": {},
   "source": [
    "Escape characters represent characters in string values that would otherwise be difficult or impossible to type into code."
   ]
  },
  {
   "cell_type": "raw",
   "id": "75737e01",
   "metadata": {},
   "source": [
    "2. What do the escape characters n and t stand for?"
   ]
  },
  {
   "cell_type": "raw",
   "id": "53ba8d11",
   "metadata": {},
   "source": [
    "n stands for new line whereas t stands for new tab"
   ]
  },
  {
   "cell_type": "raw",
   "id": "78e7c873",
   "metadata": {},
   "source": [
    "3. What is the way to include backslash characters in a string?"
   ]
  },
  {
   "cell_type": "raw",
   "id": "5affc0b4",
   "metadata": {},
   "source": [
    "\\\\ will represent backslash"
   ]
  },
  {
   "cell_type": "raw",
   "id": "97bca470",
   "metadata": {},
   "source": [
    "4. The string \"Howl's Moving Castle\" is a correct value. Why isn't the single quote character in the word Howl's not escaped a problem?"
   ]
  },
  {
   "cell_type": "raw",
   "id": "c6705879",
   "metadata": {},
   "source": [
    "because we have used single quote in between the double quotes"
   ]
  },
  {
   "cell_type": "raw",
   "id": "68b42769",
   "metadata": {},
   "source": [
    "5. How do you write a string of newlines if you don't want to use the n character?"
   ]
  },
  {
   "cell_type": "raw",
   "id": "2d548650",
   "metadata": {},
   "source": [
    "Multiline string will allow us to use newlines without using \\n escape character"
   ]
  },
  {
   "cell_type": "raw",
   "id": "26cb9660",
   "metadata": {},
   "source": [
    "6. What are the values of the given expressions?\n",
    "'Hello, world!'[1]\n",
    "'Hello, world!'[0:5]\n",
    "'Hello, world!'[:5]\n",
    "'Hello, world!'[3:]"
   ]
  },
  {
   "cell_type": "raw",
   "id": "16c429e3",
   "metadata": {},
   "source": [
    "'Hello, world'\n",
    "‘Hello’\n",
    "‘Hello’\n",
    "‘lo, world!’"
   ]
  },
  {
   "cell_type": "raw",
   "id": "9a9e3c9e",
   "metadata": {},
   "source": [
    "7. What are the values of the following expressions?\n",
    "'Hello'.upper()\n",
    "'Hello'.upper().isupper()\n",
    "'Hello'.upper().lower()"
   ]
  },
  {
   "cell_type": "raw",
   "id": "b4fb07bf",
   "metadata": {},
   "source": [
    "‘HELLO’\n",
    "True\n",
    "‘hello’"
   ]
  },
  {
   "cell_type": "raw",
   "id": "8bd3853a",
   "metadata": {},
   "source": [
    "8. What are the values of the following expressions?\n",
    "'Remember, remember, the fifth of July.'.split()\n",
    "'-'.join('There can only one.'.split())"
   ]
  },
  {
   "cell_type": "code",
   "execution_count": 2,
   "id": "359b95f8",
   "metadata": {},
   "outputs": [
    {
     "data": {
      "text/plain": [
       "['Remember,', 'remember,', 'the', 'fifth', 'of', 'July.']"
      ]
     },
     "execution_count": 2,
     "metadata": {},
     "output_type": "execute_result"
    }
   ],
   "source": [
    "'Remember, remember, the fifth of July.'.split()"
   ]
  },
  {
   "cell_type": "code",
   "execution_count": 3,
   "id": "7afcbfad",
   "metadata": {},
   "outputs": [
    {
     "data": {
      "text/plain": [
       "'There-can-only-one.'"
      ]
     },
     "execution_count": 3,
     "metadata": {},
     "output_type": "execute_result"
    }
   ],
   "source": [
    "'-'.join('There can only one.'.split())"
   ]
  },
  {
   "cell_type": "raw",
   "id": "3700e3a6",
   "metadata": {},
   "source": [
    "9. What are the methods for right-justifying, left-justifying, and centering a string?"
   ]
  },
  {
   "cell_type": "raw",
   "id": "d0195658",
   "metadata": {},
   "source": [
    "rjust(),ljust(),center()"
   ]
  },
  {
   "cell_type": "raw",
   "id": "3e26c522",
   "metadata": {},
   "source": [
    "10. What is the best way to remove whitespace characters from the start or end?"
   ]
  },
  {
   "cell_type": "raw",
   "id": "a5e6f8e3",
   "metadata": {},
   "source": [
    "lstrip() and rstrip() will remove whitespaces"
   ]
  },
  {
   "cell_type": "code",
   "execution_count": null,
   "id": "5e3e4622",
   "metadata": {},
   "outputs": [],
   "source": []
  }
 ],
 "metadata": {
  "kernelspec": {
   "display_name": "Python 3",
   "language": "python",
   "name": "python3"
  },
  "language_info": {
   "codemirror_mode": {
    "name": "ipython",
    "version": 3
   },
   "file_extension": ".py",
   "mimetype": "text/x-python",
   "name": "python",
   "nbconvert_exporter": "python",
   "pygments_lexer": "ipython3",
   "version": "3.8.8"
  }
 },
 "nbformat": 4,
 "nbformat_minor": 5
}
