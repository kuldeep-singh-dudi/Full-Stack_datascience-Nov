{
 "cells": [
  {
   "cell_type": "raw",
   "id": "57151ba0",
   "metadata": {},
   "source": [
    "1. What exactly is []?"
   ]
  },
  {
   "cell_type": "raw",
   "id": "01fa4789",
   "metadata": {},
   "source": [
    "Empty list"
   ]
  },
  {
   "cell_type": "raw",
   "id": "5d10c373",
   "metadata": {},
   "source": [
    "2. In a list of values stored in a variable called spam, how would you assign the value 'hello' as the third value? (Assume [2, 4, 6, 8, 10] are in spam.)"
   ]
  },
  {
   "cell_type": "raw",
   "id": "cb9ad402",
   "metadata": {},
   "source": [
    "spam[2]='hello'"
   ]
  },
  {
   "cell_type": "raw",
   "id": "166e15a4",
   "metadata": {},
   "source": [
    "3. What is the value of spam[int(int('3' * 2) / 11)]?"
   ]
  },
  {
   "cell_type": "raw",
   "id": "8ac080f7",
   "metadata": {},
   "source": [
    "'d'"
   ]
  },
  {
   "cell_type": "raw",
   "id": "4dfec5b0",
   "metadata": {},
   "source": [
    "4. What is the value of spam[-1]?"
   ]
  },
  {
   "cell_type": "raw",
   "id": "3ae26d35",
   "metadata": {},
   "source": [
    "'d'"
   ]
  },
  {
   "cell_type": "raw",
   "id": "e26c7ceb",
   "metadata": {},
   "source": [
    "5. What is the value of spam[:2]?"
   ]
  },
  {
   "cell_type": "raw",
   "id": "18ce634c",
   "metadata": {},
   "source": [
    "'a','b'"
   ]
  },
  {
   "cell_type": "raw",
   "id": "5c823205",
   "metadata": {},
   "source": [
    "Let's pretend bacon has the list [3.14, 'cat,' 11, 'cat,' True] for the next three questions.\n",
    "6. What is the value of bacon.index('cat')?\n"
   ]
  },
  {
   "cell_type": "raw",
   "id": "8b54e212",
   "metadata": {},
   "source": [
    "1"
   ]
  },
  {
   "cell_type": "raw",
   "id": "7816a64d",
   "metadata": {},
   "source": [
    "7. How does bacon.append(99) change the look of the list value in bacon?"
   ]
  },
  {
   "cell_type": "raw",
   "id": "9266efb7",
   "metadata": {},
   "source": [
    "[3.14, 'cat,' 11, 'cat,' True,99]"
   ]
  },
  {
   "cell_type": "raw",
   "id": "2970f6ac",
   "metadata": {},
   "source": [
    "8. How does bacon.remove('cat') change the look of the list in bacon?"
   ]
  },
  {
   "cell_type": "raw",
   "id": "9bdcf3a7",
   "metadata": {},
   "source": [
    "[3.14, 'cat,' 11, 'cat,' True]"
   ]
  },
  {
   "cell_type": "raw",
   "id": "1c9fbba3",
   "metadata": {},
   "source": [
    "9. What are the list concatenation and list replication operators?"
   ]
  },
  {
   "cell_type": "raw",
   "id": "13291377",
   "metadata": {},
   "source": [
    "list concatenation = +\n",
    "list replication = *"
   ]
  },
  {
   "cell_type": "raw",
   "id": "d670a9c1",
   "metadata": {},
   "source": [
    "10. What is difference between the list methods append() and insert()?"
   ]
  },
  {
   "cell_type": "raw",
   "id": "51714f6c",
   "metadata": {},
   "source": [
    "append() will add the value to the end of the list whereas insert() will add value at specified location\n"
   ]
  },
  {
   "cell_type": "raw",
   "id": "66a95253",
   "metadata": {},
   "source": [
    "11. What are the two methods for removing items from a list?"
   ]
  },
  {
   "cell_type": "raw",
   "id": "1330a188",
   "metadata": {},
   "source": [
    "Remove\n",
    "Delete"
   ]
  },
  {
   "cell_type": "raw",
   "id": "d2cec02b",
   "metadata": {},
   "source": [
    "12. Describe how list values and string values are identical."
   ]
  },
  {
   "cell_type": "raw",
   "id": "f85b745f",
   "metadata": {},
   "source": [
    "We can perform slicing operation to both list and string. we can used index values to find values. we can concatenate in both list and string. we can use in and not in function."
   ]
  },
  {
   "cell_type": "raw",
   "id": "b7a4a6a4",
   "metadata": {},
   "source": [
    "13. What's the difference between tuples and lists?"
   ]
  },
  {
   "cell_type": "raw",
   "id": "0f0cef40",
   "metadata": {},
   "source": [
    "Tuples are not mutable whereas list are mutable"
   ]
  },
  {
   "cell_type": "raw",
   "id": "41a3a299",
   "metadata": {},
   "source": [
    "14. How do you type a tuple value that only contains the integer 42?"
   ]
  },
  {
   "cell_type": "code",
   "execution_count": 2,
   "id": "bb6db16a",
   "metadata": {},
   "outputs": [
    {
     "data": {
      "text/plain": [
       "(42,)"
      ]
     },
     "execution_count": 2,
     "metadata": {},
     "output_type": "execute_result"
    }
   ],
   "source": [
    "(42,)"
   ]
  },
  {
   "cell_type": "raw",
   "id": "56195267",
   "metadata": {},
   "source": [
    "15. How do you get a list value's tuple form? How do you get a tuple value's list form?"
   ]
  },
  {
   "cell_type": "raw",
   "id": "117bfb25",
   "metadata": {},
   "source": [
    "by using list() and tuple() functions respectively"
   ]
  },
  {
   "cell_type": "raw",
   "id": "caca84f2",
   "metadata": {},
   "source": [
    "16. Variables that \"contain\" list values are not necessarily lists themselves. Instead, what do they contain?"
   ]
  },
  {
   "cell_type": "raw",
   "id": "5669c520",
   "metadata": {},
   "source": [
    "reference of list"
   ]
  },
  {
   "cell_type": "raw",
   "id": "e4809326",
   "metadata": {},
   "source": [
    "17. How do you distinguish between copy.copy() and copy.deepcopy()?"
   ]
  },
  {
   "cell_type": "raw",
   "id": "86bf07ff",
   "metadata": {},
   "source": [
    "copy.copy() will copy the values it will do a shallow copy but copy.deepcopy() can duplicate values inside variable"
   ]
  },
  {
   "cell_type": "code",
   "execution_count": null,
   "id": "a3539f7e",
   "metadata": {},
   "outputs": [],
   "source": []
  }
 ],
 "metadata": {
  "kernelspec": {
   "display_name": "Python 3",
   "language": "python",
   "name": "python3"
  },
  "language_info": {
   "codemirror_mode": {
    "name": "ipython",
    "version": 3
   },
   "file_extension": ".py",
   "mimetype": "text/x-python",
   "name": "python",
   "nbconvert_exporter": "python",
   "pygments_lexer": "ipython3",
   "version": "3.8.8"
  }
 },
 "nbformat": 4,
 "nbformat_minor": 5
}
