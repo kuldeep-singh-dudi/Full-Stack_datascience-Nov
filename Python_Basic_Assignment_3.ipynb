{
 "cells": [
  {
   "cell_type": "raw",
   "id": "ebeed60b",
   "metadata": {},
   "source": [
    "1. Why are functions advantageous to have in your programs?"
   ]
  },
  {
   "cell_type": "raw",
   "id": "4d54a979",
   "metadata": {},
   "source": [
    "Function advantage is that we don't have to write a method again and again in our code we can use a function to call it.\n",
    "Functions are reusable."
   ]
  },
  {
   "cell_type": "raw",
   "id": "9c45c2bd",
   "metadata": {},
   "source": [
    "2. When does the code in a function run: when it's specified or when it's called?"
   ]
  },
  {
   "cell_type": "raw",
   "id": "5f41af10",
   "metadata": {},
   "source": [
    "when it's called\n"
   ]
  },
  {
   "cell_type": "raw",
   "id": "7c99aee2",
   "metadata": {},
   "source": [
    "3. What statement creates a function?"
   ]
  },
  {
   "cell_type": "raw",
   "id": "9ea55be2",
   "metadata": {},
   "source": [
    "def statement creates a function"
   ]
  },
  {
   "cell_type": "raw",
   "id": "378781c8",
   "metadata": {},
   "source": [
    "4. What is the difference between a function and a function call?"
   ]
  },
  {
   "cell_type": "raw",
   "id": "c988db9e",
   "metadata": {},
   "source": [
    "function is created using def statement and inside function we write the logic.\n",
    "function call is used to call the function and execute the logic that we have written inside function."
   ]
  },
  {
   "cell_type": "raw",
   "id": "bbc7b082",
   "metadata": {},
   "source": [
    "5. How many global scopes are there in a Python program? How many local scopes?"
   ]
  },
  {
   "cell_type": "raw",
   "id": "7d0eef74",
   "metadata": {},
   "source": [
    "There's only one global Python scope per program execution.\n",
    "local scope is created whenever function calls"
   ]
  },
  {
   "cell_type": "raw",
   "id": "8da83e79",
   "metadata": {},
   "source": [
    "6. What happens to variables in a local scope when the function call returns?"
   ]
  },
  {
   "cell_type": "raw",
   "id": "ed31eb07",
   "metadata": {},
   "source": [
    "When function returns the local scope is destroyed and all the variables inside it are forgotten."
   ]
  },
  {
   "cell_type": "raw",
   "id": "f49db9a2",
   "metadata": {},
   "source": [
    "7. What is the concept of a return value? Is it possible to have a return value in an expression?"
   ]
  },
  {
   "cell_type": "raw",
   "id": "f889f6a3",
   "metadata": {},
   "source": [
    "Return statement is used to end the execution of function and return the result to the caller.\n",
    "yes it is possible to have return value in a expression."
   ]
  },
  {
   "cell_type": "raw",
   "id": "83bfd313",
   "metadata": {},
   "source": [
    "8. If a function does not have a return statement, what is the return value of a call to that function?"
   ]
  },
  {
   "cell_type": "raw",
   "id": "274bfc70",
   "metadata": {},
   "source": [
    "None will be the return value of a call to that function."
   ]
  },
  {
   "cell_type": "raw",
   "id": "ab0bbd4f",
   "metadata": {},
   "source": [
    "9. How do you make a function variable refer to the global variable?"
   ]
  },
  {
   "cell_type": "raw",
   "id": "2e0d7043",
   "metadata": {},
   "source": [
    "Through global statement."
   ]
  },
  {
   "cell_type": "raw",
   "id": "dbf2b855",
   "metadata": {},
   "source": [
    "10. What is the data type of None?"
   ]
  },
  {
   "cell_type": "code",
   "execution_count": 2,
   "id": "3b7eb4c4",
   "metadata": {},
   "outputs": [
    {
     "data": {
      "text/plain": [
       "NoneType"
      ]
     },
     "execution_count": 2,
     "metadata": {},
     "output_type": "execute_result"
    }
   ],
   "source": [
    "type(None)"
   ]
  },
  {
   "cell_type": "raw",
   "id": "8fa9a4ec",
   "metadata": {},
   "source": [
    "11. What does the sentence import areallyourpetsnamederic do?"
   ]
  },
  {
   "cell_type": "raw",
   "id": "3930768f",
   "metadata": {},
   "source": [
    "It will import areallyourpetsnamederic module into the program."
   ]
  },
  {
   "cell_type": "raw",
   "id": "bbaf9a1f",
   "metadata": {},
   "source": [
    "12. If you had a bacon() feature in a spam module, what would you call it after importing spam?"
   ]
  },
  {
   "cell_type": "raw",
   "id": "57fa2794",
   "metadata": {},
   "source": [
    "spam.bacon()"
   ]
  },
  {
   "cell_type": "raw",
   "id": "ed9406f6",
   "metadata": {},
   "source": [
    "13. What can you do to save a programme from crashing if it encounters an error?"
   ]
  },
  {
   "cell_type": "raw",
   "id": "77c6ad7b",
   "metadata": {},
   "source": [
    "we can use try block to prevent it from crashing."
   ]
  },
  {
   "cell_type": "raw",
   "id": "e40b9291",
   "metadata": {},
   "source": [
    "14. What is the purpose of the try clause? What is the purpose of the except clause? "
   ]
  },
  {
   "cell_type": "raw",
   "id": "e775f974",
   "metadata": {},
   "source": [
    "The purpose of try clause is to prevent our code from crashing if there is any error in code.\n",
    "Except clause is used if our code fails in try block then it'll come to except block and return the value whatever we have specified and prevent program from crashing."
   ]
  },
  {
   "cell_type": "code",
   "execution_count": null,
   "id": "401859d2",
   "metadata": {},
   "outputs": [],
   "source": []
  }
 ],
 "metadata": {
  "kernelspec": {
   "display_name": "Python 3",
   "language": "python",
   "name": "python3"
  },
  "language_info": {
   "codemirror_mode": {
    "name": "ipython",
    "version": 3
   },
   "file_extension": ".py",
   "mimetype": "text/x-python",
   "name": "python",
   "nbconvert_exporter": "python",
   "pygments_lexer": "ipython3",
   "version": "3.8.8"
  }
 },
 "nbformat": 4,
 "nbformat_minor": 5
}
