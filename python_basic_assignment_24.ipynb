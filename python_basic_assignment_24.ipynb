{
 "cells": [
  {
   "cell_type": "raw",
   "id": "d72d093a",
   "metadata": {},
   "source": [
    "1: What is the relationship between def statements and lambda expressions ?"
   ]
  },
  {
   "cell_type": "raw",
   "id": "74338c79",
   "metadata": {},
   "source": [
    "Python supports the creation of anonymous functions (i.e. functions that are not bound to a name) at runtime, using a construct called \"lambda\".\n",
    "The only difference is that (a) the body of a lambda can consist of only a single expression, the result of which is returned from the function created and (b) a lambda expression is an expression which evaluates to a function object, while a def statement has no value, and creates a function object and binds it to a name."
   ]
  },
  {
   "cell_type": "raw",
   "id": "e9b0a94c",
   "metadata": {},
   "source": [
    "2: What is the benefit of lambda?"
   ]
  },
  {
   "cell_type": "raw",
   "id": "d8df3bfa",
   "metadata": {},
   "source": [
    "Lambda Function, also referred to as ‘Anonymous function’ is same as a regular python function but can be defined without a name."
   ]
  },
  {
   "cell_type": "raw",
   "id": "4168f63e",
   "metadata": {},
   "source": [
    "3: Compare and contrast map, filter, and reduce."
   ]
  },
  {
   "cell_type": "code",
   "execution_count": 1,
   "id": "d0d13f37",
   "metadata": {},
   "outputs": [
    {
     "name": "stdout",
     "output_type": "stream",
     "text": [
      "[True, False, False, True, False]\n"
     ]
    }
   ],
   "source": [
    "def starts_with_A(s):\n",
    "    return s[0] == \"A\"\n",
    "\n",
    "fruit = [\"Apple\", \"Banana\", \"Pear\", \"Apricot\", \"Orange\"]\n",
    "map_object = map(starts_with_A, fruit)\n",
    "\n",
    "print(list(map_object))\n"
   ]
  },
  {
   "cell_type": "raw",
   "id": "4e0b09a7",
   "metadata": {},
   "source": [
    "The map() function iterates through all items in the given iterable and executes the function we passed as an argument on each of them.\n",
    "\n",
    "It's syntax is: map(function, iterable(s))"
   ]
  },
  {
   "cell_type": "code",
   "execution_count": 2,
   "id": "c7d58b50",
   "metadata": {},
   "outputs": [
    {
     "name": "stdout",
     "output_type": "stream",
     "text": [
      "['Apple', 'Apricot']\n"
     ]
    }
   ],
   "source": [
    "def starts_with_A(s):\n",
    "    return s[0] == \"A\"\n",
    "fruit = [\"Apple\", \"Banana\", \"Pear\", \"Apricot\", \"Orange\"]\n",
    "filter_object = filter(starts_with_A, fruit)\n",
    "print(list(filter_object))"
   ]
  },
  {
   "cell_type": "raw",
   "id": "1a8cb627",
   "metadata": {},
   "source": [
    "As the name suggests, filter() forms a new list that contains only elements that satisfy a certain condition, i.e. the function we passed returns True."
   ]
  },
  {
   "cell_type": "code",
   "execution_count": 3,
   "id": "5032bafc",
   "metadata": {},
   "outputs": [
    {
     "name": "stdout",
     "output_type": "stream",
     "text": [
      "47\n"
     ]
    }
   ],
   "source": [
    "from functools import reduce\n",
    "def add(x, y):\n",
    "    return x + y\n",
    "list = [2, 3, 4, 7, 3, 4, 7, 8, 9]\n",
    "print(reduce(add, list))"
   ]
  },
  {
   "cell_type": "raw",
   "id": "aa3ab4d7",
   "metadata": {},
   "source": [
    "reduce() works by calling the function we passed for the first two items in the sequence. The result returned by the function is used in another call to function alongside with the next (third in this case), element."
   ]
  },
  {
   "cell_type": "raw",
   "id": "62945431",
   "metadata": {},
   "source": [
    "4: What are function annotations, and how are they used?"
   ]
  },
  {
   "cell_type": "raw",
   "id": "8d6598cb",
   "metadata": {},
   "source": [
    "Function annotations are completely optional both for parameters and return value.\n",
    "\n",
    "Function annotations provide a way of associating various parts of a function with arbitrary python expressions at compile time.\n",
    "\n",
    "The PEP-3107 makes no attempt to introduce any kind of standard semantics, even for the built-in types. All this work left to the third-party libraries."
   ]
  },
  {
   "cell_type": "raw",
   "id": "89608b18",
   "metadata": {},
   "source": [
    "5: What are recursive functions, and how are they used?"
   ]
  },
  {
   "cell_type": "raw",
   "id": "c98cfebd",
   "metadata": {},
   "source": [
    "In Python, we know that a function can call other functions. It is even possible for the function to call itself. These types of construct are termed as recursive functions."
   ]
  },
  {
   "cell_type": "code",
   "execution_count": 4,
   "id": "ab5cc050",
   "metadata": {},
   "outputs": [
    {
     "name": "stdout",
     "output_type": "stream",
     "text": [
      "Enter a num to find the factorial: 76\n",
      "The factorial of 76 is 1885494701666050254987932260861146558230394535379329335672487982961844043495537923117729972224000000000000000000\n"
     ]
    }
   ],
   "source": [
    "def factorial(x):\n",
    "    \"\"\"This is a recursive function\n",
    "    to find the factorial of an integer\"\"\"\n",
    "    if x == 1:\n",
    "        return 1\n",
    "    else:\n",
    "        return (x * factorial(x-1))\n",
    "num = int(input(\"Enter a num to find the factorial: \"))\n",
    "print(\"The factorial of\", num, \"is\", factorial(num))\n"
   ]
  },
  {
   "cell_type": "raw",
   "id": "ff6a1217",
   "metadata": {},
   "source": [
    "6. What are some general design guidelines for coding functions?"
   ]
  },
  {
   "cell_type": "raw",
   "id": "6c0903e0",
   "metadata": {},
   "source": [
    "Use 4-space indentation and no tabs.\n",
    "\n",
    "Use docstrings - There are both single and multi-line docstrings that can be used in Python. However, the single line comment fits in one line, triple quotes are used in both cases. These are used to define a particular program or define a particular function.\n",
    "\n",
    "Wrap lines so that they don’t exceed 79 characters - The Python standard library is conservative and requires limiting lines to 79 characters. The lines can be wrapped using parenthesis, brackets, and braces. They should be used in preference to backslashes.\n",
    "\n",
    "Use of regular and updated comments are valuable to both the coders and users - There are also various types and conditions that if followed can be of great help from programs and users point of view. Comments should form complete sentences. If a comment is a full sentence, its first word should be capitalized, unless it is an identifier that begins with a lower case letter. In short comments, the period at the end can be omitted. In block comments, there are more than one paragraphs and each sentence must end with a period. Block comments and inline comments can be written followed by a single ‘#’."
   ]
  },
  {
   "cell_type": "raw",
   "id": "4231b809",
   "metadata": {},
   "source": [
    "7: Name three or more ways that functions can communicate results to a caller."
   ]
  },
  {
   "cell_type": "code",
   "execution_count": null,
   "id": "33ce0bd3",
   "metadata": {},
   "outputs": [],
   "source": []
  }
 ],
 "metadata": {
  "kernelspec": {
   "display_name": "Python 3",
   "language": "python",
   "name": "python3"
  },
  "language_info": {
   "codemirror_mode": {
    "name": "ipython",
    "version": 3
   },
   "file_extension": ".py",
   "mimetype": "text/x-python",
   "name": "python",
   "nbconvert_exporter": "python",
   "pygments_lexer": "ipython3",
   "version": "3.8.8"
  }
 },
 "nbformat": 4,
 "nbformat_minor": 5
}
