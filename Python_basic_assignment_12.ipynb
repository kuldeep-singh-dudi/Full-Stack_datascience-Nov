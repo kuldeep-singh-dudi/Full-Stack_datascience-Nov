{
 "cells": [
  {
   "cell_type": "markdown",
   "id": "085d10b6",
   "metadata": {},
   "source": [
    "1. In what modes should the PdfFileReader() and PdfFileWriter() File objects will be opened?"
   ]
  },
  {
   "cell_type": "raw",
   "id": "7f6817b1",
   "metadata": {},
   "source": [
    "PdfFileReader(stream, strict=True, warndest=None, overwriteWarnings=True): \n",
    "    It initializes a PdfFileReader object. This operation can take some time, as the PDF stream’s cross-reference tables are read into memory.\n",
    "PdfFileWriter(): \n",
    "    This class supports writing PDF files out, given pages produced by another class."
   ]
  },
  {
   "cell_type": "markdown",
   "id": "80a80e13",
   "metadata": {},
   "source": [
    "2. From a PdfFileReader object, how do you get a Page object for page 5?"
   ]
  },
  {
   "cell_type": "raw",
   "id": "9662db97",
   "metadata": {},
   "source": [
    "To extract text from a page, you need to get a Page object, which represents a single page of a pdf file, from a PdfFileReader object. You can get a page object by calling the getPage() method on a PdfFileReader object and passing it the page number of the page you're interested in."
   ]
  },
  {
   "cell_type": "markdown",
   "id": "699876f9",
   "metadata": {},
   "source": [
    "3. What PdfFileReader variable stores the number of pages in the PDF document?"
   ]
  },
  {
   "cell_type": "raw",
   "id": "fcf5a87a",
   "metadata": {},
   "source": [
    "The total number of pages in the document is stored in the numPages attribute of a PdfFileReader object."
   ]
  },
  {
   "cell_type": "markdown",
   "id": "7f412eb1",
   "metadata": {},
   "source": [
    "4. If a PdfFileReader object’s PDF is encrypted with the password swordfish, what must you do before you can obtain Page objects from it?"
   ]
  },
  {
   "cell_type": "raw",
   "id": "619b571a",
   "metadata": {},
   "source": [
    "Some PDF documents have an encryption feature that will keep them from being read until whoever is opening the document provides a password. Enter the following into the interactive shell with the PDF you downloaded, which has been encrypted with the password swordfish using pdfReader.decrypt('swordfish')"
   ]
  },
  {
   "cell_type": "markdown",
   "id": "69fe148a",
   "metadata": {},
   "source": [
    "5. What methods do you use to rotate a page?"
   ]
  },
  {
   "cell_type": "raw",
   "id": "0e7088c0",
   "metadata": {},
   "source": [
    "The pages of a PDF can also be rotated in 90-degree increments with the rotate Clockwise() and rotate Counter Clockwise() methods."
   ]
  },
  {
   "cell_type": "markdown",
   "id": "e60d9c89",
   "metadata": {},
   "source": [
    "6. What is the difference between a Run object and a Paragraph object?"
   ]
  },
  {
   "cell_type": "raw",
   "id": "5b1a761b",
   "metadata": {},
   "source": [
    "Run Object: Several of the properties on Run take a tri-state value, True, False, or None. True and False correspond to on and off respectively. None indicates the property is not specified directly on the run and its effective value is taken from the style hierarchy.\n",
    "Paragraph Object: Compared to plaintexts, .docx files have a lot of structure. This structure is represented by three different data types in Python-Docx. At the highest level, a Document object represents the entire document. The Document object contains a list of Paragraph objects for the paragraphs in the document. (A new paragraph begins whenever the user presses ENTER or RETURN while typing in a Word document.) Each of these Paragraph objects contains a list of one or more Run objects.\n"
   ]
  },
  {
   "cell_type": "markdown",
   "id": "b55c73a7",
   "metadata": {},
   "source": [
    "7. How do you obtain a list of Paragraph objects for a Document object that’s stored in a variable named doc?"
   ]
  },
  {
   "cell_type": "markdown",
   "id": "330ae49d",
   "metadata": {},
   "source": [
    "8. What type of object has bold, underline, italic, strike, and outline variables?"
   ]
  },
  {
   "cell_type": "raw",
   "id": "9a0d8805",
   "metadata": {},
   "source": [
    "Run Attributes:\n",
    "Runs can be further styled using text attributes. Each attribute can be set to one of three values: \n",
    " True (the attribute is always enabled, no matter what other styles are applied to the run)\n",
    " False (the attribute is always disabled)\n",
    " None (defaults to whatever the run’s style is set to).\n",
    "All the run objects can be visually changed to look bold, italic, strike or outlined.\n"
   ]
  },
  {
   "cell_type": "markdown",
   "id": "5243f9d8",
   "metadata": {},
   "source": [
    "9. What is the difference between False, True, and None for the bold variable?"
   ]
  },
  {
   "cell_type": "raw",
   "id": "95405a9c",
   "metadata": {},
   "source": [
    "For the bold variables, the differences are: \n",
    "True - It is enabled automatically.\n",
    "False - This attribute is always disabled.\n",
    "None - Defaults to whatever the run’s style is set to\n"
   ]
  },
  {
   "cell_type": "markdown",
   "id": "f1a527c5",
   "metadata": {},
   "source": [
    "10. How do you create a Document object for a new Word document?"
   ]
  },
  {
   "cell_type": "raw",
   "id": "102e9ad9",
   "metadata": {},
   "source": [
    "use the import docx library. Then we open a .docx file in Python, call docx.Document(), and pass the filename docs.docx (where docs is the name of the file). This will return a Document object, which has a paragraphs attribute that is a list of Paragraph objects."
   ]
  },
  {
   "cell_type": "markdown",
   "id": "6ce5e5f3",
   "metadata": {},
   "source": [
    "11. How do you add a paragraph with the text 'Hello, there!' to a Document object stored in a variable named doc?"
   ]
  },
  {
   "cell_type": "raw",
   "id": "47e0b3dd",
   "metadata": {},
   "source": [
    "You can add paragraphs by calling the add_paragraph()method again with the new paragraph’s text. Or to add text to the end of an existing para-graph, you can call the paragraph’s add_run()method and pass it a string or a set of strings."
   ]
  },
  {
   "cell_type": "markdown",
   "id": "460a453c",
   "metadata": {},
   "source": [
    "12. What integers represent the levels of headings available in Word documents?"
   ]
  },
  {
   "cell_type": "raw",
   "id": "1ba11352",
   "metadata": {},
   "source": [
    "We can apply a numbering scheme to the headings in our document by using multilevel-list templates and built-in heading styles in Word like Heading 1, Heading 2, and more. We can number headings so that top-level headings (like Heading 1) are numbered 1, 2, 3. For example, and second-level headings (like Heading 2) are numbered 1.1, 1.2, 1.3."
   ]
  }
 ],
 "metadata": {
  "kernelspec": {
   "display_name": "Python 3",
   "language": "python",
   "name": "python3"
  },
  "language_info": {
   "codemirror_mode": {
    "name": "ipython",
    "version": 3
   },
   "file_extension": ".py",
   "mimetype": "text/x-python",
   "name": "python",
   "nbconvert_exporter": "python",
   "pygments_lexer": "ipython3",
   "version": "3.8.8"
  }
 },
 "nbformat": 4,
 "nbformat_minor": 5
}
