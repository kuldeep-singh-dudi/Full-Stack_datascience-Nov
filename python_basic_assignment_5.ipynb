{
 "cells": [
  {
   "cell_type": "raw",
   "id": "ad5f579d",
   "metadata": {},
   "source": [
    "1. What does an empty dictionary's code look like?"
   ]
  },
  {
   "cell_type": "raw",
   "id": "6f366832",
   "metadata": {},
   "source": [
    "{}"
   ]
  },
  {
   "cell_type": "raw",
   "id": "bac42d80",
   "metadata": {},
   "source": [
    "2. What is the value of a dictionary value with the key 'foo' and the value 42?"
   ]
  },
  {
   "cell_type": "raw",
   "id": "8f3d0941",
   "metadata": {},
   "source": [
    "{'foo':42}"
   ]
  },
  {
   "cell_type": "raw",
   "id": "289c221a",
   "metadata": {},
   "source": [
    "3. What is the most significant distinction between a dictionary and a list?"
   ]
  },
  {
   "cell_type": "raw",
   "id": "4bdf3a54",
   "metadata": {},
   "source": [
    "Dictionary is unordered while list is ordered"
   ]
  },
  {
   "cell_type": "raw",
   "id": "0eecfa16",
   "metadata": {},
   "source": [
    "4. What happens if you try to access spam['foo'] if spam is {'bar': 100}?"
   ]
  },
  {
   "cell_type": "raw",
   "id": "dd2c95d4",
   "metadata": {},
   "source": [
    "KeyError"
   ]
  },
  {
   "cell_type": "raw",
   "id": "e85a7b6c",
   "metadata": {},
   "source": [
    "5. If a dictionary is stored in spam, what is the difference between the expressions 'cat' in spam and 'cat' in spam.keys()?"
   ]
  },
  {
   "cell_type": "raw",
   "id": "f84ef4a0",
   "metadata": {},
   "source": [
    "No difference the in keyword will check whether the key is present in dictionary"
   ]
  },
  {
   "cell_type": "raw",
   "id": "ce778177",
   "metadata": {},
   "source": [
    "6. If a dictionary is stored in spam, what is the difference between the expressions 'cat' in spam and 'cat' in spam.values()?"
   ]
  },
  {
   "cell_type": "raw",
   "id": "818c87d2",
   "metadata": {},
   "source": [
    "'cat' in spam will check for the key named as cat in dictionary whereas 'cat' in spam.values() will check for the value cat in dictionary\n"
   ]
  },
  {
   "cell_type": "raw",
   "id": "b6edb543",
   "metadata": {},
   "source": [
    "7. What is a shortcut for the following code?\n",
    "if 'color' not in spam:\n",
    "spam['color'] = 'black'"
   ]
  },
  {
   "cell_type": "raw",
   "id": "ce2b3228",
   "metadata": {},
   "source": [
    "spam.setdefault(‘color’,’black’)"
   ]
  },
  {
   "cell_type": "raw",
   "id": "b3edd19a",
   "metadata": {},
   "source": [
    "8. How do you \"pretty print\" dictionary values using which module and function?"
   ]
  },
  {
   "cell_type": "raw",
   "id": "ecdee82e",
   "metadata": {},
   "source": [
    "using pprint.pprint()"
   ]
  }
 ],
 "metadata": {
  "kernelspec": {
   "display_name": "Python 3",
   "language": "python",
   "name": "python3"
  },
  "language_info": {
   "codemirror_mode": {
    "name": "ipython",
    "version": 3
   },
   "file_extension": ".py",
   "mimetype": "text/x-python",
   "name": "python",
   "nbconvert_exporter": "python",
   "pygments_lexer": "ipython3",
   "version": "3.8.8"
  }
 },
 "nbformat": 4,
 "nbformat_minor": 5
}
