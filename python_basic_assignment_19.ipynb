{
 "cells": [
  {
   "cell_type": "markdown",
   "id": "1ada59b9",
   "metadata": {},
   "source": [
    "1: Make a class called Thing with no contents and print it. Then, create an object called example from this class and also print it. Are the printed values the same or different?"
   ]
  },
  {
   "cell_type": "code",
   "execution_count": 1,
   "id": "fbe6d961",
   "metadata": {},
   "outputs": [
    {
     "data": {
      "text/plain": [
       "<__main__.things at 0x2f43d3541c0>"
      ]
     },
     "execution_count": 1,
     "metadata": {},
     "output_type": "execute_result"
    }
   ],
   "source": [
    "class things:\n",
    "    def __init__(self):\n",
    "        pass\n",
    "Things=things()\n",
    "Things"
   ]
  },
  {
   "cell_type": "code",
   "execution_count": 2,
   "id": "cf7bbb19",
   "metadata": {},
   "outputs": [
    {
     "name": "stdout",
     "output_type": "stream",
     "text": [
      "this a example object\n"
     ]
    }
   ],
   "source": [
    "class things:\n",
    "    def __init__(self):\n",
    "        pass\n",
    "    def example(self):\n",
    "        print(\"this a example object\")\n",
    "        \n",
    "Things=things()\n",
    "Things.example()"
   ]
  },
  {
   "cell_type": "markdown",
   "id": "dec31a96",
   "metadata": {},
   "source": [
    "2: Create a new class called Thing2 and add the value 'abc' to the letters class attribute. Letters should be printed."
   ]
  },
  {
   "cell_type": "code",
   "execution_count": 5,
   "id": "124ccab7",
   "metadata": {},
   "outputs": [
    {
     "name": "stdout",
     "output_type": "stream",
     "text": [
      "abc\n"
     ]
    }
   ],
   "source": [
    "class letters:\n",
    "    def __init__(self):\n",
    "        pass\n",
    "    def example(self):\n",
    "        print('this a letter class')\n",
    "class things2(letters):\n",
    "    def __init__(self):\n",
    "        pass\n",
    "    def letters(self):\n",
    "        print('abc')\n",
    "        \n",
    "Things=things2()\n",
    "Things.letters()"
   ]
  },
  {
   "cell_type": "markdown",
   "id": "8189c307",
   "metadata": {},
   "source": [
    "3: Make yet another class called, of-course, Thing3. This time, assign the value 'xyz' to an instance (object) attribute called letters. Print letters. Do you need to make an object from the class to do this?"
   ]
  },
  {
   "cell_type": "code",
   "execution_count": 9,
   "id": "1a7015f8",
   "metadata": {},
   "outputs": [
    {
     "name": "stdout",
     "output_type": "stream",
     "text": [
      "xyz\n"
     ]
    }
   ],
   "source": [
    "class things3:\n",
    "    def __init__(self,letters):\n",
    "        self.letters=letters\n",
    "        \n",
    "    def printing(self):\n",
    "        print('xyz')\n",
    "\n",
    "Things=things3('hello')\n",
    "Things.printing()"
   ]
  },
  {
   "cell_type": "markdown",
   "id": "06d470e3",
   "metadata": {},
   "source": [
    "4: Create an Element class with the instance attributes name, symbol, and number. Create a class object with the values 'Hydrogen,' 'H,' and 1."
   ]
  },
  {
   "cell_type": "code",
   "execution_count": 2,
   "id": "a75d354f",
   "metadata": {},
   "outputs": [
    {
     "name": "stdout",
     "output_type": "stream",
     "text": [
      "Hydrogen H 1\n"
     ]
    }
   ],
   "source": [
    "class element:\n",
    "    def __init__(self,name,symbol,number):\n",
    "        self.name=name\n",
    "        self.symbol=symbol\n",
    "        self.number=number\n",
    "    def printing(self,name,symbol,number):\n",
    "        print(name,symbol,number)\n",
    "        \n",
    "ele=element('Hydrogen','H',1)\n",
    "ele.printing('Hydrogen','H',1)\n",
    "        "
   ]
  },
  {
   "cell_type": "markdown",
   "id": "00f04362",
   "metadata": {},
   "source": [
    "5: Make a dictionary with these keys and values: 'name': 'Hydrogen', 'symbol': 'H', 'number': 1. Then, create an object called hydrogen from class Element using this dictionary."
   ]
  },
  {
   "cell_type": "code",
   "execution_count": 11,
   "id": "d0897460",
   "metadata": {},
   "outputs": [
    {
     "ename": "NameError",
     "evalue": "name 'my_dict' is not defined",
     "output_type": "error",
     "traceback": [
      "\u001b[1;31m---------------------------------------------------------------------------\u001b[0m",
      "\u001b[1;31mNameError\u001b[0m                                 Traceback (most recent call last)",
      "\u001b[1;32m<ipython-input-11-62e894f0f1bb>\u001b[0m in \u001b[0;36m<module>\u001b[1;34m\u001b[0m\n\u001b[0;32m      8\u001b[0m                \u001b[1;34m'symbol'\u001b[0m\u001b[1;33m:\u001b[0m \u001b[1;34m'H'\u001b[0m\u001b[1;33m,\u001b[0m\u001b[1;33m\u001b[0m\u001b[1;33m\u001b[0m\u001b[0m\n\u001b[0;32m      9\u001b[0m                'number': 1}\n\u001b[1;32m---> 10\u001b[1;33m \u001b[0mhydrogen\u001b[0m \u001b[1;33m=\u001b[0m \u001b[0mElement\u001b[0m\u001b[1;33m(\u001b[0m\u001b[0mmy_dict\u001b[0m\u001b[1;33m)\u001b[0m\u001b[1;33m\u001b[0m\u001b[1;33m\u001b[0m\u001b[0m\n\u001b[0m\u001b[0;32m     11\u001b[0m \u001b[0mprint\u001b[0m\u001b[1;33m(\u001b[0m\u001b[0mhydrogen\u001b[0m\u001b[1;33m.\u001b[0m\u001b[0mname\u001b[0m\u001b[1;33m,\u001b[0m \u001b[0mhydrogen\u001b[0m\u001b[1;33m.\u001b[0m\u001b[0msymbol\u001b[0m\u001b[1;33m,\u001b[0m \u001b[0mhydrogen\u001b[0m\u001b[1;33m.\u001b[0m\u001b[0mnumber\u001b[0m\u001b[1;33m)\u001b[0m\u001b[1;33m\u001b[0m\u001b[1;33m\u001b[0m\u001b[0m\n",
      "\u001b[1;31mNameError\u001b[0m: name 'my_dict' is not defined"
     ]
    }
   ],
   "source": [
    "class Element(object):\n",
    "    def __init__(self, my_dict):\n",
    "        self.my_dict=my_dict\n",
    "        for key in my_dict:\n",
    "            setattr(self, key, my_dict[key])\n",
    "    def element_class():\n",
    "        my_dict = {'name': 'Hydrogen', \n",
    "               'symbol': 'H', \n",
    "               'number': 1}\n",
    "hydrogen = Element(my_dict)\n",
    "print(hydrogen.name, hydrogen.symbol, hydrogen.number)"
   ]
  },
  {
   "cell_type": "markdown",
   "id": "ae8d48f1",
   "metadata": {},
   "source": [
    "6: For the Element class, define a method called dump() that prints the values of the object’s attributes (name, symbol, and number). Create the hydrogen object from this new definition and use dump() to print its attributes."
   ]
  },
  {
   "cell_type": "code",
   "execution_count": 12,
   "id": "b798cc7f",
   "metadata": {},
   "outputs": [
    {
     "ename": "NameError",
     "evalue": "name 'my_dict' is not defined",
     "output_type": "error",
     "traceback": [
      "\u001b[1;31m---------------------------------------------------------------------------\u001b[0m",
      "\u001b[1;31mNameError\u001b[0m                                 Traceback (most recent call last)",
      "\u001b[1;32m<ipython-input-12-a1a8c27700da>\u001b[0m in \u001b[0;36m<module>\u001b[1;34m\u001b[0m\n\u001b[0;32m      7\u001b[0m                \u001b[1;34m'symbol'\u001b[0m\u001b[1;33m:\u001b[0m \u001b[1;34m'H'\u001b[0m\u001b[1;33m,\u001b[0m\u001b[1;33m\u001b[0m\u001b[1;33m\u001b[0m\u001b[0m\n\u001b[0;32m      8\u001b[0m                'number': 1}\n\u001b[1;32m----> 9\u001b[1;33m \u001b[0mhydrogen\u001b[0m \u001b[1;33m=\u001b[0m \u001b[0mElement\u001b[0m\u001b[1;33m(\u001b[0m\u001b[0mmy_dict\u001b[0m\u001b[1;33m)\u001b[0m\u001b[1;33m\u001b[0m\u001b[1;33m\u001b[0m\u001b[0m\n\u001b[0m\u001b[0;32m     10\u001b[0m \u001b[0mprint\u001b[0m\u001b[1;33m(\u001b[0m\u001b[0mhydrogen\u001b[0m\u001b[1;33m.\u001b[0m\u001b[0mname\u001b[0m\u001b[1;33m,\u001b[0m\u001b[0mhydrogen\u001b[0m\u001b[1;33m.\u001b[0m\u001b[0msymbol\u001b[0m\u001b[1;33m,\u001b[0m\u001b[0mhydrogen\u001b[0m\u001b[1;33m.\u001b[0m\u001b[0mnumber\u001b[0m\u001b[1;33m)\u001b[0m\u001b[1;33m\u001b[0m\u001b[1;33m\u001b[0m\u001b[0m\n",
      "\u001b[1;31mNameError\u001b[0m: name 'my_dict' is not defined"
     ]
    }
   ],
   "source": [
    "class Element(object):\n",
    "    def __init__(self, my_dict):\n",
    "        for key in my_dict:\n",
    "            setattr(self, key, my_dict[key])\n",
    "    def dump():\n",
    "        my_dict = {'name': 'Hydrogen', \n",
    "               'symbol': 'H', \n",
    "               'number': 1}\n",
    "hydrogen = Element(my_dict)\n",
    "print(hydrogen.name,hydrogen.symbol,hydrogen.number)"
   ]
  },
  {
   "cell_type": "markdown",
   "id": "46cc11d0",
   "metadata": {},
   "source": [
    "7: Call print(hydrogen). In the definition of Element, change the name of method dump to str, create a new hydrogen object, and call print(hydrogen) again."
   ]
  },
  {
   "cell_type": "code",
   "execution_count": null,
   "id": "eb0d447e",
   "metadata": {},
   "outputs": [],
   "source": [
    "class Element(object):\n",
    "    def __init__(self, my_dict):\n",
    "        for key in my_dict:\n",
    "            setattr(self, key, my_dict[key])\n",
    "    def strr():\n",
    "        my_dict = {'name': 'Hydrogen', \n",
    "               'symbol': 'H', \n",
    "               'number': 1}\n",
    "hydrogen = Element(my_dict)\n",
    "print(hydrogen.name,hydrogen.symbol,hydrogen.number)"
   ]
  },
  {
   "cell_type": "markdown",
   "id": "50cfd936",
   "metadata": {},
   "source": [
    "8: Modify Element to make the attributes name, symbol, and number private. Define a getter property for each to return its value."
   ]
  },
  {
   "cell_type": "code",
   "execution_count": null,
   "id": "2cf66b7c",
   "metadata": {},
   "outputs": [],
   "source": [
    "class Element(object):\n",
    "    def __init__(self, my_dict):\n",
    "        for key in my_dict:\n",
    "            setattr(self, key, my_dict[key])\n",
    "    def strr():\n",
    "        my_dict = {'name': 'Hydrogen', \n",
    "               'symbol': 'H', \n",
    "               'number': 1}\n",
    "hydrogen = Element(my_dict)\n",
    "print(hydrogen.name,hydrogen.symbol,hydrogen.number)"
   ]
  },
  {
   "cell_type": "markdown",
   "id": "6119b479",
   "metadata": {},
   "source": [
    "9: Define three classes: Bear, Rabbit, and Octothorpe. For each, define only one method: eats(). This should return 'berries' (Bear), 'clover' (Rabbit), or 'campers' (Octothorpe). Create one object from each and print what it eats."
   ]
  },
  {
   "cell_type": "code",
   "execution_count": 13,
   "id": "a14fb786",
   "metadata": {},
   "outputs": [
    {
     "name": "stdout",
     "output_type": "stream",
     "text": [
      "berries , clover & campers\n"
     ]
    }
   ],
   "source": [
    "class Bear:\n",
    "    def eats(self):\n",
    "        return \"berries\"\n",
    "class Rabbit:\n",
    "    def eats(self):\n",
    "        return \"clover\"\n",
    "class Octothorpe:\n",
    "    def eats(self):\n",
    "        return \"campers\"\n",
    "b,r,o = Bear(),Rabbit(),Octothorpe()\n",
    "print(b.eats(),\",\",r.eats(),\"&\",o.eats())"
   ]
  },
  {
   "cell_type": "markdown",
   "id": "5146f597",
   "metadata": {},
   "source": [
    "10: Define these classes: Laser, Claw, and SmartPhone. Each has only one method: does(). This returns 'disintegrate' (Laser), 'crush' (Claw), or 'ring' (SmartPhone). Then, define the class Robot that has one instance (object) of each of these. Define a does() method for the Robot that prints what its component objects do."
   ]
  },
  {
   "cell_type": "code",
   "execution_count": 14,
   "id": "ce2ea42e",
   "metadata": {},
   "outputs": [
    {
     "name": "stdout",
     "output_type": "stream",
     "text": [
      "I have many attachments: My laser, to disintegrate My claw, to crush My smartphone, to ring.\n"
     ]
    }
   ],
   "source": [
    "class Laser: \n",
    "    def does(self): \n",
    "        return 'disintegrate'  \n",
    "    \n",
    "class Claw:  \n",
    "    def does(self): \n",
    "        return 'crush' \n",
    "class SmartPhone: \n",
    "    def does(self):  \n",
    "        return 'ring' \n",
    "class Robot: \n",
    "    def __init__(self): \n",
    "        self.laser = Laser() \n",
    "        self.claw = Claw() \n",
    "        self.smartphone = SmartPhone() \n",
    "    def does(self): \n",
    "        return '''I have many attachments: My laser, to %s My claw, to %s My smartphone, to %s.''' % (self.laser.does(),self.claw.does(),self.smartphone.does()) \n",
    "robbie = Robot() \n",
    "print(robbie.does())"
   ]
  },
  {
   "cell_type": "code",
   "execution_count": null,
   "id": "08adfd26",
   "metadata": {},
   "outputs": [],
   "source": []
  }
 ],
 "metadata": {
  "kernelspec": {
   "display_name": "Python 3",
   "language": "python",
   "name": "python3"
  },
  "language_info": {
   "codemirror_mode": {
    "name": "ipython",
    "version": 3
   },
   "file_extension": ".py",
   "mimetype": "text/x-python",
   "name": "python",
   "nbconvert_exporter": "python",
   "pygments_lexer": "ipython3",
   "version": "3.8.8"
  }
 },
 "nbformat": 4,
 "nbformat_minor": 5
}
