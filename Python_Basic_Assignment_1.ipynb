{
 "cells": [
  {
   "cell_type": "raw",
   "id": "98d449c5",
   "metadata": {},
   "source": [
    "1. In the below elements which of them are values or an expression? eg:- values can be\n",
    "integer or string and expressions will be mathematical operators.\n",
    "*\n",
    "hello\n",
    "-87.8\n",
    "-\n",
    "/\n",
    "+\n",
    "6"
   ]
  },
  {
   "cell_type": "raw",
   "id": "294c8458",
   "metadata": {},
   "source": [
    "values : 'hello',39,-87.8,6\n",
    "expression : *,-,/,+"
   ]
  },
  {
   "cell_type": "raw",
   "id": "a3fa2803",
   "metadata": {},
   "source": [
    "2. What is the difference between string and variable?"
   ]
  },
  {
   "cell_type": "raw",
   "id": "be5067eb",
   "metadata": {},
   "source": [
    "Variable = It is defined as the symbol in which we store values to the specific memory loacation and can use the symbol whenever needed.\n",
    "e.g. x=1+2\n",
    "\n",
    "String = It is defined as the value whic we store in some variable using single and double quotes.\n",
    "e.g. x=\"this is string\""
   ]
  },
  {
   "cell_type": "raw",
   "id": "2726ad57",
   "metadata": {},
   "source": [
    "3. Describe three different data types."
   ]
  },
  {
   "cell_type": "raw",
   "id": "124b0f08",
   "metadata": {},
   "source": [
    "Numeric :- In this data type numeric values are present which may be either integer, float or complex\n",
    "\n",
    "Sequence :- It is the collection ordered or unodered data types which may be list,tuple,string\n",
    "\n",
    "Boolean :- It is the collection of two inbuilt values True and False"
   ]
  },
  {
   "cell_type": "raw",
   "id": "da235482",
   "metadata": {},
   "source": [
    "4. What is an expression made up of? What do all expressions do?"
   ]
  },
  {
   "cell_type": "raw",
   "id": "6e94d9f7",
   "metadata": {},
   "source": [
    "An expression is the combination of operator and operand that is interpreted to produce some other values. Expression perform airthmetic operations"
   ]
  },
  {
   "cell_type": "raw",
   "id": "5682e3af",
   "metadata": {},
   "source": [
    "5. This assignment statements, like spam = 10. What is the difference between an expression and a statement?"
   ]
  },
  {
   "cell_type": "raw",
   "id": "7c8c6df0",
   "metadata": {},
   "source": [
    "Statement are used as a line of code which is used to store some value and displaying some value.\n",
    "\n",
    "An expression is the combination of operator and operand that is interpreted to produce some other values."
   ]
  },
  {
   "cell_type": "raw",
   "id": "78d11abe",
   "metadata": {},
   "source": [
    "6. After running the following code, what does the variable bacon contain?\n",
    "bacon = 22\n",
    "bacon + 1\n"
   ]
  },
  {
   "cell_type": "raw",
   "id": "b8cc610a",
   "metadata": {},
   "source": [
    "The variable bacon contains 22 only as we are only incrementing value by 1 but not storing it into the variable."
   ]
  },
  {
   "cell_type": "raw",
   "id": "fd282b61",
   "metadata": {},
   "source": [
    "7. What should the values of the following two terms be?\n",
    "'spam' + 'spamspam'\n",
    "'spam' * 3"
   ]
  },
  {
   "cell_type": "code",
   "execution_count": 4,
   "id": "cf2ce504",
   "metadata": {},
   "outputs": [
    {
     "data": {
      "text/plain": [
       "'spamspamspam'"
      ]
     },
     "execution_count": 4,
     "metadata": {},
     "output_type": "execute_result"
    }
   ],
   "source": [
    "'spam' + 'spamspam'\n",
    "'spam' * 3"
   ]
  },
  {
   "cell_type": "raw",
   "id": "979a2063",
   "metadata": {},
   "source": [
    "8. Why is eggs a valid variable name while 100 is invalid?"
   ]
  },
  {
   "cell_type": "raw",
   "id": "045c37fa",
   "metadata": {},
   "source": [
    "Because variable name should start with character value not with numbers"
   ]
  },
  {
   "cell_type": "raw",
   "id": "d1dde4a4",
   "metadata": {},
   "source": [
    "9. What three functions can be used to get the integer, floating-point number, or string version of a value?"
   ]
  },
  {
   "cell_type": "raw",
   "id": "3006d10e",
   "metadata": {},
   "source": [
    "str(),float(),int() are used to get the string,floating-point number or string values"
   ]
  },
  {
   "cell_type": "raw",
   "id": "dbe2f7bf",
   "metadata": {},
   "source": [
    "10. Why does this expression cause an error? How can you fix it?\n",
    "'I have eaten ' + 99 + ' burritos.'"
   ]
  },
  {
   "cell_type": "raw",
   "id": "4a4c292a",
   "metadata": {},
   "source": [
    "Becuase we cannot concatenate integer values into string. To remove this error we should cahnge the integer value into string.\n",
    "'I have eaten ' + str(99) + ' burritos.'"
   ]
  },
  {
   "cell_type": "code",
   "execution_count": null,
   "id": "6479b9cc",
   "metadata": {},
   "outputs": [],
   "source": []
  }
 ],
 "metadata": {
  "kernelspec": {
   "display_name": "Python 3",
   "language": "python",
   "name": "python3"
  },
  "language_info": {
   "codemirror_mode": {
    "name": "ipython",
    "version": 3
   },
   "file_extension": ".py",
   "mimetype": "text/x-python",
   "name": "python",
   "nbconvert_exporter": "python",
   "pygments_lexer": "ipython3",
   "version": "3.8.8"
  }
 },
 "nbformat": 4,
 "nbformat_minor": 5
}
