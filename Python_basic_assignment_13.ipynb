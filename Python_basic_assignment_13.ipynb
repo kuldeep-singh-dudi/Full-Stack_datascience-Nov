{
 "cells": [
  {
   "cell_type": "markdown",
   "id": "fb47c034",
   "metadata": {},
   "source": [
    "1: What advantages do Excel spreadsheets have over CSV spreadsheets?"
   ]
  },
  {
   "cell_type": "raw",
   "id": "54988219",
   "metadata": {},
   "source": [
    "CSV is a format for saving tabular information into a delimited text file with extension .csv whereas Excel is a spreadsheet that keeps files into its own proprietary format viz xls or xlsx, implying it is easier and more versatile to work with.\n",
    "CSV is a plain text format with a series of values separated by commas whereas Excel is a binary file that holds information about all the worksheets in a workbook.\n",
    "CSV file can’t perform operations on data while Excel can perform operations on the data.\n",
    "CSV files are faster and also consumes less memory whereas Excel consumes more memory while importing data.\n",
    "CSV files can be opened with any text editor in windows while Excel files can’t be opened with text editors."
   ]
  },
  {
   "cell_type": "markdown",
   "id": "2599d799",
   "metadata": {},
   "source": [
    "2: What do you pass to csv.reader() and csv.writer() to create reader and writer objects?"
   ]
  },
  {
   "cell_type": "raw",
   "id": "3885702a",
   "metadata": {},
   "source": [
    "csv.reader(): Reading from a CSV file is done using the reader object function."
   ]
  },
  {
   "cell_type": "code",
   "execution_count": 1,
   "id": "6d6ed776",
   "metadata": {},
   "outputs": [
    {
     "name": "stdout",
     "output_type": "stream",
     "text": [
      "['', 'tv ads', 'cars sold'] \n",
      "\n",
      "['0', '1.0', '14'] \n",
      "\n",
      "['1', '3.0', '24'] \n",
      "\n",
      "['2', '2.0', '19'] \n",
      "\n",
      "['3', '1.0', '13'] \n",
      "\n"
     ]
    }
   ],
   "source": [
    "x = 0\n",
    "import csv\n",
    "with open('example.csv', 'r') as file:\n",
    "    reader = csv.reader(file)\n",
    "    for row in reader:\n",
    "        print(row,\"\\n\")\n",
    "        x+=1\n",
    "        if x == 5:break\n",
    "        else: continue"
   ]
  },
  {
   "cell_type": "raw",
   "id": "67a607c7",
   "metadata": {},
   "source": [
    "csv.writer(): The csv.writer() function returns a writer object that converts the user's data into a delimited string."
   ]
  },
  {
   "cell_type": "code",
   "execution_count": 3,
   "id": "e6674c0a",
   "metadata": {},
   "outputs": [
    {
     "data": {
      "text/html": [
       "<div>\n",
       "<style scoped>\n",
       "    .dataframe tbody tr th:only-of-type {\n",
       "        vertical-align: middle;\n",
       "    }\n",
       "\n",
       "    .dataframe tbody tr th {\n",
       "        vertical-align: top;\n",
       "    }\n",
       "\n",
       "    .dataframe thead th {\n",
       "        text-align: right;\n",
       "    }\n",
       "</style>\n",
       "<table border=\"1\" class=\"dataframe\">\n",
       "  <thead>\n",
       "    <tr style=\"text-align: right;\">\n",
       "      <th></th>\n",
       "      <th>SN</th>\n",
       "      <th>Movie</th>\n",
       "      <th>Protagonist</th>\n",
       "    </tr>\n",
       "  </thead>\n",
       "  <tbody>\n",
       "    <tr>\n",
       "      <th>0</th>\n",
       "      <td>1</td>\n",
       "      <td>Lord of the Rings</td>\n",
       "      <td>Frodo Baggins</td>\n",
       "    </tr>\n",
       "    <tr>\n",
       "      <th>1</th>\n",
       "      <td>2</td>\n",
       "      <td>Harry Potter</td>\n",
       "      <td>Harry Potter</td>\n",
       "    </tr>\n",
       "  </tbody>\n",
       "</table>\n",
       "</div>"
      ],
      "text/plain": [
       "   SN              Movie    Protagonist\n",
       "0   1  Lord of the Rings  Frodo Baggins\n",
       "1   2       Harry Potter   Harry Potter"
      ]
     },
     "execution_count": 3,
     "metadata": {},
     "output_type": "execute_result"
    }
   ],
   "source": [
    "import csv\n",
    "import pandas as pd\n",
    "with open('movies.csv', 'w', newline='') as file: # replaces the entire content of the file with the 2 datasets\n",
    "    writer = csv.writer(file)\n",
    "    writer.writerow([\"SN\", \"Movie\", \"Protagonist\"])\n",
    "    writer.writerow([1, \"Lord of the Rings\", \"Frodo Baggins\"])\n",
    "    writer.writerow([2, \"Harry Potter\", \"Harry Potter\"])\n",
    "df = pd.read_csv('movies.csv') # printing the file to see the changes\n",
    "df"
   ]
  },
  {
   "cell_type": "markdown",
   "id": "82d96b97",
   "metadata": {},
   "source": [
    "3: What modes do File objects for reader and writer objects need to be opened in?"
   ]
  },
  {
   "cell_type": "raw",
   "id": "d71741bd",
   "metadata": {},
   "source": [
    "Giving second argument to the open() function is optional which is the mode.\n",
    "\n",
    "We can specify the mode while opening a file, i.e. whether we want to read ‘r’, write ‘w’ or append ‘a’ to the file.\n",
    "We can also specify if we want to open the file in text mode or binary mode. The default mode is text mode where we get strings when reading from the file."
   ]
  },
  {
   "cell_type": "markdown",
   "id": "513a92ac",
   "metadata": {},
   "source": [
    "4: What method takes a list argument and writes it to a CSV file?"
   ]
  },
  {
   "cell_type": "code",
   "execution_count": 5,
   "id": "27fd4fba",
   "metadata": {},
   "outputs": [
    {
     "data": {
      "text/html": [
       "<div>\n",
       "<style scoped>\n",
       "    .dataframe tbody tr th:only-of-type {\n",
       "        vertical-align: middle;\n",
       "    }\n",
       "\n",
       "    .dataframe tbody tr th {\n",
       "        vertical-align: top;\n",
       "    }\n",
       "\n",
       "    .dataframe thead th {\n",
       "        text-align: right;\n",
       "    }\n",
       "</style>\n",
       "<table border=\"1\" class=\"dataframe\">\n",
       "  <thead>\n",
       "    <tr style=\"text-align: right;\">\n",
       "      <th></th>\n",
       "      <th>Name</th>\n",
       "      <th>College Year</th>\n",
       "      <th>Year of Graduation</th>\n",
       "      <th>Subjects</th>\n",
       "    </tr>\n",
       "  </thead>\n",
       "  <tbody>\n",
       "    <tr>\n",
       "      <th>0</th>\n",
       "      <td>kuldeep</td>\n",
       "      <td>2nd</td>\n",
       "      <td>2023</td>\n",
       "      <td>Astrological Physics</td>\n",
       "    </tr>\n",
       "    <tr>\n",
       "      <th>1</th>\n",
       "      <td>sudhanshu</td>\n",
       "      <td>3rd</td>\n",
       "      <td>2022</td>\n",
       "      <td>Stats &amp; Mathematics</td>\n",
       "    </tr>\n",
       "    <tr>\n",
       "      <th>2</th>\n",
       "      <td>krish</td>\n",
       "      <td>4th</td>\n",
       "      <td>2021</td>\n",
       "      <td>Rocket Engineering</td>\n",
       "    </tr>\n",
       "  </tbody>\n",
       "</table>\n",
       "</div>"
      ],
      "text/plain": [
       "        Name College Year  Year of Graduation              Subjects\n",
       "0    kuldeep          2nd                2023  Astrological Physics\n",
       "1  sudhanshu          3rd                2022   Stats & Mathematics\n",
       "2      krish          4th                2021    Rocket Engineering"
      ]
     },
     "execution_count": 5,
     "metadata": {},
     "output_type": "execute_result"
    }
   ],
   "source": [
    "import csv \n",
    "Details = ['Name', 'College Year', 'Year of Graduation', 'Subjects']  \n",
    "rows = [ ['kuldeep', '2nd', '2023', 'Astrological Physics'],  ['sudhanshu', '3rd', '2022', 'Stats & Mathematics'],  ['krish', '4th', '2021', 'Rocket Engineering']] \n",
    "with open('sample.csv', 'w') as f: \n",
    "    write = csv.writer(f) \n",
    "    write.writerow(Details) \n",
    "    write.writerows(rows) \n",
    "    \n",
    "l = pd.read_csv('sample.csv')\n",
    "l"
   ]
  },
  {
   "cell_type": "markdown",
   "id": "cac023cf",
   "metadata": {},
   "source": [
    "5: What do the keyword arguments delimiter and line terminator do?"
   ]
  },
  {
   "cell_type": "raw",
   "id": "15f86be4",
   "metadata": {},
   "source": [
    "The line terminator is the character that comes at the end of a row. By default, the line terminator is a newline. You can change characters to different values by using the delimiter and lineterminator keyword arguments with csv. writer()."
   ]
  },
  {
   "cell_type": "markdown",
   "id": "4ac45038",
   "metadata": {},
   "source": [
    "6: What function takes a string of JSON data and returns a Python data structure?"
   ]
  },
  {
   "cell_type": "raw",
   "id": "bf43501d",
   "metadata": {},
   "source": [
    "JSON is written as key and value pair. JSON is very similar to Python dictionary. Python supports JSON, and it has an inbuilt library, called JSON.\n",
    "\n",
    "Ex:\n",
    "\n",
    "{\"Key\":\"Value\", \"Key\":\"Value\",}\n",
    "\n",
    "The encode() function is same as JSON dumping the Python method returning a JSON string of Python data structure."
   ]
  },
  {
   "cell_type": "markdown",
   "id": "f4fa9609",
   "metadata": {},
   "source": [
    "7: What function takes a Python data structure and returns a string of JSON data?"
   ]
  },
  {
   "cell_type": "raw",
   "id": "c5ff0547",
   "metadata": {},
   "source": [
    "the loads() function returns the Python data structure of JSON string or data."
   ]
  },
  {
   "cell_type": "code",
   "execution_count": null,
   "id": "064631b0",
   "metadata": {},
   "outputs": [],
   "source": []
  }
 ],
 "metadata": {
  "kernelspec": {
   "display_name": "Python 3",
   "language": "python",
   "name": "python3"
  },
  "language_info": {
   "codemirror_mode": {
    "name": "ipython",
    "version": 3
   },
   "file_extension": ".py",
   "mimetype": "text/x-python",
   "name": "python",
   "nbconvert_exporter": "python",
   "pygments_lexer": "ipython3",
   "version": "3.8.8"
  }
 },
 "nbformat": 4,
 "nbformat_minor": 5
}
