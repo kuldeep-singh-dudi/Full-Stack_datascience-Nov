{
 "cells": [
  {
   "cell_type": "raw",
   "id": "d8166d78",
   "metadata": {},
   "source": [
    "1. To what does a relative path refer?"
   ]
  },
  {
   "cell_type": "raw",
   "id": "7877f627",
   "metadata": {},
   "source": [
    "a realtive path is interpreted from the prespective of current working directory"
   ]
  },
  {
   "cell_type": "raw",
   "id": "758cb6d4",
   "metadata": {},
   "source": [
    "2. What does an absolute path start with your operating system?"
   ]
  },
  {
   "cell_type": "raw",
   "id": "41eec73e",
   "metadata": {},
   "source": [
    "absolute path starts from / "
   ]
  },
  {
   "cell_type": "raw",
   "id": "334cfe6b",
   "metadata": {},
   "source": [
    "3. What do the functions os.getcwd() and os.chdir() do?"
   ]
  },
  {
   "cell_type": "raw",
   "id": "0b450c4e",
   "metadata": {},
   "source": [
    "os.getcwd() will give you the path of current working directory whereas os.chdir() is used to change the current working directory"
   ]
  },
  {
   "cell_type": "raw",
   "id": "ffd9b5f0",
   "metadata": {},
   "source": [
    "4. What are the . and .. folders?"
   ]
  },
  {
   "cell_type": "raw",
   "id": "de3d2a7c",
   "metadata": {},
   "source": [
    ". folder is current folder whereas .. folder is parent folder"
   ]
  },
  {
   "cell_type": "raw",
   "id": "74bd0303",
   "metadata": {},
   "source": [
    "5. In C:\\bacon\\eggs\\spam.txt, which part is the dir name, and which part is the base name?"
   ]
  },
  {
   "cell_type": "raw",
   "id": "f7728d1e",
   "metadata": {},
   "source": [
    "C:\\bacon\\eggs\\ is the dir name\n",
    "spam.txt is the base name"
   ]
  },
  {
   "cell_type": "raw",
   "id": "4ab490cc",
   "metadata": {},
   "source": [
    "6. What are the three “mode” arguments that can be passed to the open() function?"
   ]
  },
  {
   "cell_type": "raw",
   "id": "49e810f3",
   "metadata": {},
   "source": [
    "'r' read, 'w' write, 'a' append"
   ]
  },
  {
   "cell_type": "raw",
   "id": "10765c77",
   "metadata": {},
   "source": [
    "7. What happens if an existing file is opened in write mode?"
   ]
  },
  {
   "cell_type": "raw",
   "id": "16d3c0b6",
   "metadata": {},
   "source": [
    "it will overwrite the existing file"
   ]
  },
  {
   "cell_type": "raw",
   "id": "23f13d6d",
   "metadata": {},
   "source": [
    "8. How do you tell the difference between read() and readlines()?"
   ]
  },
  {
   "cell_type": "raw",
   "id": "84c70121",
   "metadata": {},
   "source": [
    "read will return the entire file whereas readlines will return the string line by line as it is in the original file"
   ]
  },
  {
   "cell_type": "raw",
   "id": "bdcb7599",
   "metadata": {},
   "source": [
    "9. What data structure does a shelf value resemble?"
   ]
  },
  {
   "cell_type": "raw",
   "id": "7d0d2403",
   "metadata": {},
   "source": [
    "it resembles dictionary having keys and values"
   ]
  },
  {
   "cell_type": "code",
   "execution_count": null,
   "id": "abbfa5c5",
   "metadata": {},
   "outputs": [],
   "source": []
  }
 ],
 "metadata": {
  "kernelspec": {
   "display_name": "Python 3",
   "language": "python",
   "name": "python3"
  },
  "language_info": {
   "codemirror_mode": {
    "name": "ipython",
    "version": 3
   },
   "file_extension": ".py",
   "mimetype": "text/x-python",
   "name": "python",
   "nbconvert_exporter": "python",
   "pygments_lexer": "ipython3",
   "version": "3.8.8"
  }
 },
 "nbformat": 4,
 "nbformat_minor": 5
}
